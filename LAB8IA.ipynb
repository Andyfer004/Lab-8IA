{
  "nbformat": 4,
  "nbformat_minor": 0,
  "metadata": {
    "colab": {
      "provenance": [],
      "authorship_tag": "ABX9TyOThHivgdVhSMImIRCiDhAe",
      "include_colab_link": true
    },
    "kernelspec": {
      "name": "python3",
      "display_name": "Python 3"
    },
    "language_info": {
      "name": "python"
    }
  },
  "cells": [
    {
      "cell_type": "markdown",
      "metadata": {
        "id": "view-in-github",
        "colab_type": "text"
      },
      "source": [
        "<a href=\"https://colab.research.google.com/github/Andyfer004/Lab-8IA/blob/main/LAB8IA.ipynb\" target=\"_parent\"><img src=\"https://colab.research.google.com/assets/colab-badge.svg\" alt=\"Open In Colab\"/></a>"
      ]
    },
    {
      "cell_type": "markdown",
      "source": [
        "# LAB 8 - Inteligencia Artificial  \n",
        "## Catedrático: Alberto Suriano  \n",
        "### Estudiantes:  \n",
        "- Andy Fuentes 22944\n",
        "- Davis Roldán  22672\n",
        "- Diederich Solís 22952\n",
        "\n",
        "\n",
        "\n",
        "## Tasks 1 - Teoría\n",
        "\n",
        "### 1. Investigar el algoritmo AC-3 y su relación con el algoritmo de backtracking search\n",
        "\n",
        "AC-3 (Arc Consistency Algorithm 3) es un algoritmo utilizado en problemas de satisfacción de restricciones (CSP) para reducir los dominios de las variables antes o durante la búsqueda. Lo que hace es asegurarse de que todas las variables estén *arc-consistent*, es decir, que para cada valor de una variable exista al menos un valor compatible en las variables relacionadas.\n",
        "\n",
        "Su relación con el algoritmo de backtracking search es que AC-3 puede utilizarse como una forma de **pre-procesamiento** o como **heurística** durante la búsqueda. Esto permite reducir significativamente el espacio de búsqueda, ya que elimina valores inconsistentes antes de intentar asignaciones, disminuyendo así el número de retrocesos (backtracks) necesarios.\n",
        "\n",
        "\n",
        "\n",
        "### 2. Defina en sus propias palabras el término “Arc Consistency”\n",
        "\n",
        "Una variable es *arc-consistent* con respecto a otra si, para cada valor posible en su dominio, hay al menos un valor en el dominio de la otra variable que satisface la restricción entre ambas. Es decir, no hay valores sin apoyo en las variables relacionadas. El objetivo es que no existan valores que, al asignarse, hagan inevitable una falla más adelante."
      ],
      "metadata": {
        "id": "Lopfw2DO1B3q"
      }
    },
    {
      "cell_type": "markdown",
      "source": [
        "## Task 2 - CSP con Backtracking, Beam y Local Search\n",
        "\n",
        "En este ejercicio, resolveremos el problema de calendarización de 7 exámenes para 4 estudiantes (con restricciones) utilizando tres algoritmos diferentes: Backtracking Search, Beam Search y Local Search.\n",
        "\n",
        "\n",
        "\n",
        "### 1. Definir las variables\n",
        "\n",
        "**a. Variables:**  \n",
        "- Representamos cada examen con una variable: `E1, E2, E3, E4, E5, E6, E7`.\n",
        "\n",
        "**b. Dominio de cada variable:**  \n",
        "- Los días posibles son: `Lunes`, `Martes` y `Miércoles`.\n",
        "\n",
        "#### Código: Definición de Variables"
      ],
      "metadata": {
        "id": "4JupILXw2c4N"
      }
    },
    {
      "cell_type": "code",
      "execution_count": 1,
      "metadata": {
        "id": "W4MfzUy10iZv"
      },
      "outputs": [],
      "source": [
        "# Definición de variables y dominio\n",
        "\n",
        "from itertools import combinations\n",
        "\n",
        "# Variables: Exámenes\n",
        "exams = [\"E1\", \"E2\", \"E3\", \"E4\", \"E5\", \"E6\", \"E7\"]\n",
        "\n",
        "# Dominio: Días posibles\n",
        "days = [\"Lunes\", \"Martes\", \"Miércoles\"]\n",
        "\n",
        "# Definición de estudiantes y sus exámenes (incluye cursos compartidos)\n",
        "students = {\n",
        "    \"Andy\":      [\"E1\", \"E2\", \"E3\"],\n",
        "    \"Davis\":     [\"E3\", \"E4\", \"E5\"],\n",
        "    \"Diederich\": [\"E5\", \"E6\", \"E7\"],\n",
        "    \"Shared\":    [(\"E2\", \"E4\"), (\"E1\", \"E6\")]\n",
        "}"
      ]
    },
    {
      "cell_type": "markdown",
      "source": [
        "### 2. Definir las restricciones\n",
        "\n",
        "**a. Restricciones:**  \n",
        "- **Días distintos para cada examen:** Cada examen se realiza en un día distinto.  \n",
        "- **Un examen por día por estudiante:** Ningún estudiante debe tener más de un examen en el mismo día.  \n",
        "- **Cursos compartidos:** Los estudiantes que toman el mismo curso (o exámenes relacionados) no pueden tener exámenes el mismo día.\n",
        "\n",
        "En el código, la función `is_valid` se encargará de verificar estas restricciones."
      ],
      "metadata": {
        "id": "hLyk2kKY2kk4"
      }
    },
    {
      "cell_type": "code",
      "source": [
        "# Función para verificar si una asignación es válida según las restricciones\n",
        "def is_valid(assignment, exam, day):\n",
        "    temp = assignment.copy()\n",
        "    temp[exam] = day\n",
        "\n",
        "    # Verificar para cada grupo de exámenes (estudiantes/cursos) que no haya dos asignados al mismo día\n",
        "    for group in students.values():\n",
        "        # Si el grupo es una lista de exámenes\n",
        "        if isinstance(group, list):\n",
        "            for a, b in combinations(group, 2):\n",
        "                if a in temp and b in temp and temp.get(a) == temp.get(b):\n",
        "                    return False\n",
        "        # Si el grupo es una lista de tuplas (exámenes compartidos)\n",
        "        else:\n",
        "            for a, b in group:\n",
        "                if a in temp and b in temp and temp.get(a) == temp.get(b):\n",
        "                    return False\n",
        "    return True"
      ],
      "metadata": {
        "id": "bM1SsfxG2nqT"
      },
      "execution_count": 2,
      "outputs": []
    },
    {
      "cell_type": "markdown",
      "source": [
        "### 3. Implementar el algoritmo de Backtracking Search\n",
        "\n",
        "**a. Implementación:**  \n",
        "Utilizaremos un enfoque recursivo en el que asignamos días a los exámenes uno por uno.  \n",
        "**b. Retroceso:**  \n",
        "Si se viola alguna restricción, se deshace la asignación (retroceso) y se prueba otro valor.\n",
        "\n",
        "#### Código: Backtracking Search"
      ],
      "metadata": {
        "id": "esfGGLor2q-i"
      }
    },
    {
      "cell_type": "code",
      "source": [
        "import time\n",
        "\n",
        "def backtrack(assignment):\n",
        "    # Si se han asignado todos los exámenes, se retorna la asignación\n",
        "    if len(assignment) == len(exams):\n",
        "        return assignment\n",
        "\n",
        "    # Seleccionamos el siguiente examen sin asignar\n",
        "    unassigned = [e for e in exams if e not in assignment]\n",
        "    exam = unassigned[0]\n",
        "\n",
        "    # Probar asignar cada día posible\n",
        "    for day in days:\n",
        "        if is_valid(assignment, exam, day):\n",
        "            assignment[exam] = day\n",
        "            result = backtrack(assignment)\n",
        "            if result:\n",
        "                return result\n",
        "            # Retroceso: remover la asignación si no conduce a solución\n",
        "            del assignment[exam]\n",
        "    return None\n",
        "\n",
        "start = time.time()\n",
        "solution_bt = backtrack({})\n",
        "end = time.time()\n",
        "\n",
        "print(\"Backtracking Solution:\", solution_bt)\n",
        "print(\"Tiempo:\", round(end - start, 4), \"s\")"
      ],
      "metadata": {
        "colab": {
          "base_uri": "https://localhost:8080/"
        },
        "id": "_nqo-F3d2w3E",
        "outputId": "7b86511b-a141-4d9d-bbdf-971f2cee2143"
      },
      "execution_count": 3,
      "outputs": [
        {
          "output_type": "stream",
          "name": "stdout",
          "text": [
            "Backtracking Solution: {'E1': 'Lunes', 'E2': 'Martes', 'E3': 'Miércoles', 'E4': 'Lunes', 'E5': 'Martes', 'E6': 'Lunes', 'E7': 'Miércoles'}\n",
            "Tiempo: 0.0003 s\n"
          ]
        }
      ]
    },
    {
      "cell_type": "markdown",
      "source": [
        "### 4. Implementar el algoritmo de Beam Search\n",
        "\n",
        "**a. Implementación:**  \n",
        "Se exploran múltiples estados parciales y se conservan los `k` mejores (con menos conflictos).  \n",
        "**b. Heurística:**  \n",
        "La función `count_conflicts` cuenta los conflictos de una asignación parcial, y se utiliza para seleccionar los estados más prometedores.\n",
        "\n",
        "#### Código: Beam Search (con beam width = 2)"
      ],
      "metadata": {
        "id": "Ptgdx02120jA"
      }
    },
    {
      "cell_type": "code",
      "source": [
        "import heapq\n",
        "\n",
        "# Función para contar los conflictos en una asignación\n",
        "def count_conflicts(assignment):\n",
        "    conflicts = 0\n",
        "    for group in students.values():\n",
        "        if isinstance(group, list):\n",
        "            for a, b in combinations(group, 2):\n",
        "                if a in assignment and b in assignment and assignment.get(a) == assignment.get(b):\n",
        "                    conflicts += 1\n",
        "        else:\n",
        "            for a, b in group:\n",
        "                if a in assignment and b in assignment and assignment.get(a) == assignment.get(b):\n",
        "                    conflicts += 1\n",
        "    return conflicts\n",
        "\n",
        "def beam_search(k=2):\n",
        "    beam = [({}, 0)]  # Cada elemento es una tupla: (estado parcial, número de conflictos)\n",
        "\n",
        "    for exam in exams:\n",
        "        new_beam = []\n",
        "        for state, _ in beam:\n",
        "            for day in days:\n",
        "                new_state = state.copy()\n",
        "                new_state[exam] = day\n",
        "                c = count_conflicts(new_state)\n",
        "                new_beam.append((new_state, c))\n",
        "        # Conservamos los k mejores estados\n",
        "        beam = heapq.nsmallest(k, new_beam, key=lambda x: x[1])\n",
        "\n",
        "        # Si se encontró una solución completa sin conflictos, salimos\n",
        "        if any(len(b[0]) == len(exams) and b[1] == 0 for b in beam):\n",
        "            break\n",
        "\n",
        "    best = min(beam, key=lambda x: x[1])\n",
        "    return best\n",
        "\n",
        "start = time.time()\n",
        "solution_beam, conflicts_beam = beam_search(k=2)\n",
        "end = time.time()\n",
        "\n",
        "print(\"Beam Search Solution:\", solution_beam)\n",
        "print(\"Conflictos:\", conflicts_beam)\n",
        "print(\"Tiempo:\", round(end - start, 4), \"s\")"
      ],
      "metadata": {
        "colab": {
          "base_uri": "https://localhost:8080/"
        },
        "id": "wda7APum237r",
        "outputId": "dec7ab70-0d8b-4f23-8c3e-b4a055c11024"
      },
      "execution_count": 4,
      "outputs": [
        {
          "output_type": "stream",
          "name": "stdout",
          "text": [
            "Beam Search Solution: {'E1': 'Lunes', 'E2': 'Martes', 'E3': 'Miércoles', 'E4': 'Lunes', 'E5': 'Martes', 'E6': 'Lunes', 'E7': 'Miércoles'}\n",
            "Conflictos: 0\n",
            "Tiempo: 0.0004 s\n"
          ]
        }
      ]
    },
    {
      "cell_type": "markdown",
      "source": [
        "### 5. Implementar el algoritmo de Local Search\n",
        "\n",
        "**a. Implementación:**  \n",
        "Se parte de una solución aleatoria y se mejora iterativamente buscando soluciones vecinas.  \n",
        "**b. Heurística:**  \n",
        "Se evalúan los vecinos mediante el número de conflictos, y se selecciona el vecino con la menor cantidad de conflictos.\n",
        "\n",
        "#### Código: Local Search (Hill Climbing con reinicios aleatorios)"
      ],
      "metadata": {
        "id": "Q4un2LOw26e9"
      }
    },
    {
      "cell_type": "code",
      "source": [
        "import random\n",
        "\n",
        "def generate_random_solution():\n",
        "    return {e: random.choice(days) for e in exams}\n",
        "\n",
        "def get_neighbors(solution):\n",
        "    neighbors = []\n",
        "    for exam in exams:\n",
        "        for day in days:\n",
        "            if solution[exam] != day:\n",
        "                new_sol = solution.copy()\n",
        "                new_sol[exam] = day\n",
        "                neighbors.append(new_sol)\n",
        "    return neighbors\n",
        "\n",
        "def local_search(max_restarts=20, max_steps=100):\n",
        "    for _ in range(max_restarts):\n",
        "        current = generate_random_solution()\n",
        "        for _ in range(max_steps):\n",
        "            neighbors = get_neighbors(current)\n",
        "            next_solution = min(neighbors, key=count_conflicts)\n",
        "            # Si se mejora la solución, se actualiza\n",
        "            if count_conflicts(next_solution) < count_conflicts(current):\n",
        "                current = next_solution\n",
        "            else:\n",
        "                break\n",
        "        # Si no hay conflictos, se retorna la solución\n",
        "        if count_conflicts(current) == 0:\n",
        "            return current\n",
        "    return None\n",
        "\n",
        "start = time.time()\n",
        "solution_local = local_search()\n",
        "end = time.time()\n",
        "\n",
        "print(\"Local Search Solution:\", solution_local)\n",
        "print(\"Conflictos:\", count_conflicts(solution_local) if solution_local else \"No encontrada\")\n",
        "print(\"Tiempo:\", round(end - start, 4), \"s\")"
      ],
      "metadata": {
        "colab": {
          "base_uri": "https://localhost:8080/"
        },
        "id": "K2VT3aS22892",
        "outputId": "e25d12be-4a4a-44d8-f97d-aed1abed12b7"
      },
      "execution_count": 5,
      "outputs": [
        {
          "output_type": "stream",
          "name": "stdout",
          "text": [
            "Local Search Solution: {'E1': 'Martes', 'E2': 'Miércoles', 'E3': 'Lunes', 'E4': 'Miércoles', 'E5': 'Martes', 'E6': 'Lunes', 'E7': 'Miércoles'}\n",
            "Conflictos: 0\n",
            "Tiempo: 0.0006 s\n"
          ]
        }
      ]
    },
    {
      "cell_type": "markdown",
      "source": [
        "### Comparación de Resultados y Conclusiones\n",
        "\n",
        "| Algoritmo         | Tiempo (s) | Conflictos | Solución Válida |\n",
        "|-------------------|------------|------------|------------------|\n",
        "| Backtracking      | 0.0003     | 0          | ✅               |\n",
        "| Beam Search (k=2) | 0.0004     | 0          | ✅               |\n",
        "| Local Search      | 0.0006     | 0          | ✅               |\n",
        "\n",
        "**Conclusiones:**\n",
        "\n",
        "- **Backtracking** encontró una solución válida en el menor tiempo y garantiza exactitud. Es ideal para problemas pequeños o donde se requiere certeza.\n",
        "- **Beam Search** fue eficiente y encontró una solución válida sin conflictos. Su rendimiento puede variar según el tamaño del beam y la heurística usada.\n",
        "- **Local Search** también resolvió el problema sin errores, aunque su tiempo fue ligeramente mayor. Es útil en espacios grandes donde una solución rápida aproximada es suficiente.\n",
        "\n",
        "Los tres algoritmos funcionaron correctamente en este caso. La elección depende del tamaño del problema y la necesidad de precisión o eficiencia."
      ],
      "metadata": {
        "id": "0m9G6VkK3WTL"
      }
    }
  ]
}