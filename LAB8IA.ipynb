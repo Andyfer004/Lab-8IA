{
  "nbformat": 4,
  "nbformat_minor": 0,
  "metadata": {
    "colab": {
      "provenance": [],
      "authorship_tag": "ABX9TyPfDy/alzvBlLk9Q+TGHDf7",
      "include_colab_link": true
    },
    "kernelspec": {
      "name": "python3",
      "display_name": "Python 3"
    },
    "language_info": {
      "name": "python"
    }
  },
  "cells": [
    {
      "cell_type": "markdown",
      "metadata": {
        "id": "view-in-github",
        "colab_type": "text"
      },
      "source": [
        "<a href=\"https://colab.research.google.com/github/Andyfer004/Lab-8IA/blob/main/LAB8IA.ipynb\" target=\"_parent\"><img src=\"https://colab.research.google.com/assets/colab-badge.svg\" alt=\"Open In Colab\"/></a>"
      ]
    },
    {
      "cell_type": "markdown",
      "source": [
        "# LAB 8 - Inteligencia Artificial  \n",
        "## Catedrático: Alberto Suriano  \n",
        "### Estudiantes:  \n",
        "- Andy Fuentes  \n",
        "- Davis Roldán  \n",
        "- Diederich Solís  \n",
        "\n",
        "\n",
        "\n",
        "## Tasks 1 - Teoría\n",
        "\n",
        "### 1. Investigar el algoritmo AC-3 y su relación con el algoritmo de backtracking search\n",
        "\n",
        "AC-3 (Arc Consistency Algorithm 3) es un algoritmo utilizado en problemas de satisfacción de restricciones (CSP) para reducir los dominios de las variables antes o durante la búsqueda. Lo que hace es asegurarse de que todas las variables estén *arc-consistent*, es decir, que para cada valor de una variable exista al menos un valor compatible en las variables relacionadas.\n",
        "\n",
        "Su relación con el algoritmo de backtracking search es que AC-3 puede utilizarse como una forma de **pre-procesamiento** o como **heurística** durante la búsqueda. Esto permite reducir significativamente el espacio de búsqueda, ya que elimina valores inconsistentes antes de intentar asignaciones, disminuyendo así el número de retrocesos (backtracks) necesarios.\n",
        "\n",
        "\n",
        "\n",
        "### 2. Defina en sus propias palabras el término “Arc Consistency”\n",
        "\n",
        "Una variable es *arc-consistent* con respecto a otra si, para cada valor posible en su dominio, hay al menos un valor en el dominio de la otra variable que satisface la restricción entre ambas. Es decir, no hay valores sin apoyo en las variables relacionadas. El objetivo es que no existan valores que, al asignarse, hagan inevitable una falla más adelante."
      ],
      "metadata": {
        "id": "Lopfw2DO1B3q"
      }
    },
    {
      "cell_type": "code",
      "execution_count": null,
      "metadata": {
        "id": "W4MfzUy10iZv"
      },
      "outputs": [],
      "source": []
    }
  ]
}